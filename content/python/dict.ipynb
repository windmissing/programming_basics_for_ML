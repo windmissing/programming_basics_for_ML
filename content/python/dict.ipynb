{
 "nbformat": 4,
 "nbformat_minor": 2,
 "metadata": {
  "language_info": {
   "name": "python",
   "codemirror_mode": {
    "name": "ipython",
    "version": 3
   },
   "version": "3.7.3"
  },
  "orig_nbformat": 2,
  "file_extension": ".py",
  "mimetype": "text/x-python",
  "name": "python",
  "npconvert_exporter": "python",
  "pygments_lexer": "ipython3",
  "version": 3
 },
 "cells": [
  {
   "cell_type": "markdown",
   "execution_count": 1,
   "metadata": {},
   "outputs": [],
   "source": [
    "# 字典树，修改数据"
   ]
  },
  {
   "cell_type": "code",
   "execution_count": 4,
   "metadata": {},
   "outputs": [
    {
     "data": {
      "text/plain": "{'a': 2}"
     },
     "execution_count": 4,
     "metadata": {},
     "output_type": "execute_result"
    }
   ],
   "source": [
    "A = {}\n",
    "A['a'] = A.get('a', 0) + 1   # key=a不存在时直接使用A['a']读值会出错\n",
    "A['a'] = A['a'] + 1    # key=a存在以后可以直接使用A['a']读值\n",
    "A"
   ]
  },
  {
   "cell_type": "markdown",
   "execution_count": null,
   "metadata": {},
   "outputs": [],
   "source": [
    "# 对字典树排序"
   ]
  },
  {
   "cell_type": "code",
   "execution_count": 10,
   "metadata": {},
   "outputs": [
    {
     "data": {
      "text/plain": "[(4, 'd'), (2, 'c'), (3, 'b'), (1, 'a')]"
     },
     "execution_count": 10,
     "metadata": {},
     "output_type": "execute_result"
    }
   ],
   "source": [
    "import operator\n",
    "A = {1:'a', 3:'b', 2:'c', 4:'d'}\n",
    "sorted(A.items(),   # iterable -- 可迭代对象，在python2中使用A.iteritems()，在python3中使用A.items()\n",
    "       key=operator.itemgetter(1),   # key -- 主要是用来进行比较的元素，指定可迭代对象中的一个元素来进行排序，这里指基于item的value进行排序\n",
    "       reverse=True)   # reverse -- 排序规则，reverse = True 降序 ， reverse = False 升序（默认）。\n",
    "# 排序结果是一个list"
   ]
  },
  {
   "cell_type": "code",
   "execution_count": null,
   "metadata": {},
   "outputs": [],
   "source": []
  }
 ]
}