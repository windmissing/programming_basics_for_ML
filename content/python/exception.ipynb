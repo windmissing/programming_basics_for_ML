{
 "cells": [
  {
   "cell_type": "markdown",
   "metadata": {},
   "source": [
    "# Exception"
   ]
  },
  {
   "cell_type": "code",
   "execution_count": 5,
   "metadata": {},
   "outputs": [
    {
     "name": "stdout",
     "output_type": "stream",
     "text": [
      "1 0\n",
      "this function throws an exception\n",
      "1 1\n",
      "2 1\n",
      "1 2\n",
      "2 2\n",
      "1 3\n",
      "this function throws an exception\n",
      "1 4\n",
      "2 4\n",
      "1 5\n",
      "2 5\n",
      "1 6\n",
      "this function throws an exception\n",
      "1 7\n",
      "2 7\n",
      "1 8\n",
      "2 8\n",
      "1 9\n",
      "this function throws an exception\n"
     ]
    }
   ],
   "source": [
    "def func_throw_exception(i):\n",
    "    if i%3 == 0:\n",
    "        raise Exception('this function throws an exception')\n",
    "    \n",
    "def func():\n",
    "    for i in range(10):\n",
    "        print (1, i)\n",
    "        try:\n",
    "            func_throw_exception(i)\n",
    "            print (2, i)\n",
    "        except Exception as err:\n",
    "            print (err)    # 怎么才能打出上面的字符串？\n",
    "        \n",
    "func()"
   ]
  },
  {
   "cell_type": "code",
   "execution_count": null,
   "metadata": {},
   "outputs": [],
   "source": []
  }
 ],
 "metadata": {
  "kernelspec": {
   "display_name": "Python 3",
   "language": "python",
   "name": "python3"
  },
  "language_info": {
   "codemirror_mode": {
    "name": "ipython",
    "version": 3
   },
   "file_extension": ".py",
   "mimetype": "text/x-python",
   "name": "python",
   "nbconvert_exporter": "python",
   "pygments_lexer": "ipython3",
   "version": "3.7.4"
  }
 },
 "nbformat": 4,
 "nbformat_minor": 2
}
