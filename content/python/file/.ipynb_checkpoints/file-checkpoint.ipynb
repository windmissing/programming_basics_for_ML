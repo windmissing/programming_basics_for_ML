{
 "cells": [
  {
   "cell_type": "markdown",
   "metadata": {},
   "source": [
    "# 打开文件"
   ]
  },
  {
   "cell_type": "code",
   "execution_count": 1,
   "metadata": {},
   "outputs": [],
   "source": [
    "filename = \"1.txt\"\n",
    "fr = open(filename)   # filename是文件名,fr是文件句柄"
   ]
  },
  {
   "cell_type": "markdown",
   "metadata": {},
   "source": [
    "# 读文件内容"
   ]
  },
  {
   "cell_type": "markdown",
   "metadata": {},
   "source": [
    " ## 1. 一次读入所有的内容，并返回list"
   ]
  },
  {
   "cell_type": "code",
   "execution_count": 2,
   "metadata": {},
   "outputs": [
    {
     "data": {
      "text/plain": [
       "['x11\\tx12\\tx13\\tx14\\ty\\n',\n",
       " 'x21\\tx22\\tx23\\tx24\\ty\\n',\n",
       " 'x31\\tx32\\tx33\\tx34\\ty\\n',\n",
       " 'x41\\tx42\\tx43\\tx44\\ty']"
      ]
     },
     "execution_count": 2,
     "metadata": {},
     "output_type": "execute_result"
    }
   ],
   "source": [
    "filename = \"1.txt\"\n",
    "fr = open(filename) \n",
    "fr.readlines()  # 一次读入所有的内容，并返回list"
   ]
  },
  {
   "cell_type": "markdown",
   "metadata": {},
   "source": [
    "## 2. readlines只能用一次，再读就读不到了"
   ]
  },
  {
   "cell_type": "code",
   "execution_count": 3,
   "metadata": {},
   "outputs": [
    {
     "data": {
      "text/plain": [
       "[]"
      ]
     },
     "execution_count": 3,
     "metadata": {},
     "output_type": "execute_result"
    }
   ],
   "source": [
    "filename = \"1.txt\"\n",
    "fr = open(filename) \n",
    "fr.readlines()  \n",
    "fr.readlines()  # readlines只能用一次，再读就读不到了"
   ]
  },
  {
   "cell_type": "code",
   "execution_count": 4,
   "metadata": {},
   "outputs": [
    {
     "data": {
      "text/plain": [
       "['x11\\tx12\\tx13\\tx14\\ty\\n',\n",
       " 'x21\\tx22\\tx23\\tx24\\ty\\n',\n",
       " 'x31\\tx32\\tx33\\tx34\\ty\\n',\n",
       " 'x41\\tx42\\tx43\\tx44\\ty']"
      ]
     },
     "execution_count": 4,
     "metadata": {},
     "output_type": "execute_result"
    }
   ],
   "source": [
    "fr = open(filename) \n",
    "fr.readlines()  # 重新再open一次，就能重新开始读内容了"
   ]
  },
  {
   "cell_type": "markdown",
   "metadata": {},
   "source": [
    "# 处理文件内容"
   ]
  },
  {
   "cell_type": "markdown",
   "metadata": {},
   "source": [
    "## 1. 依次处理每一行"
   ]
  },
  {
   "cell_type": "code",
   "execution_count": 5,
   "metadata": {},
   "outputs": [
    {
     "name": "stdout",
     "output_type": "stream",
     "text": [
      "x11\tx12\tx13\tx14\ty\n",
      "\n",
      "x21\tx22\tx23\tx24\ty\n",
      "\n",
      "x31\tx32\tx33\tx34\ty\n",
      "\n",
      "x41\tx42\tx43\tx44\ty\n"
     ]
    }
   ],
   "source": [
    "filename = \"1.txt\"\n",
    "fr = open(filename) \n",
    "for line in fr.readlines():\n",
    "    print(line)"
   ]
  },
  {
   "cell_type": "markdown",
   "metadata": {},
   "source": [
    "## 2. 文件中的每一行都以换行符结束，处理时通常要先去掉换行符"
   ]
  },
  {
   "cell_type": "code",
   "execution_count": 6,
   "metadata": {},
   "outputs": [
    {
     "name": "stdout",
     "output_type": "stream",
     "text": [
      "x11\tx12\tx13\tx14\ty\n",
      "x21\tx22\tx23\tx24\ty\n",
      "x31\tx32\tx33\tx34\ty\n",
      "x41\tx42\tx43\tx44\ty\n"
     ]
    }
   ],
   "source": [
    "filename = \"1.txt\"\n",
    "fr = open(filename) \n",
    "for line in fr.readlines():   # 依次处理每一行\n",
    "    line = line.strip()       # 去掉行尾的换行符\n",
    "    print(line)"
   ]
  },
  {
   "cell_type": "markdown",
   "metadata": {},
   "source": [
    "## 3. 通常一行代表一个样本，一行里面包含一个样本的多个特征，多个特征之间用'\\t'格开"
   ]
  },
  {
   "cell_type": "code",
   "execution_count": 7,
   "metadata": {},
   "outputs": [
    {
     "data": {
      "text/plain": [
       "['a', 'b', 'c', 'd']"
      ]
     },
     "execution_count": 7,
     "metadata": {},
     "output_type": "execute_result"
    }
   ],
   "source": [
    "line = \"a\\tb\\tc\\td\"\n",
    "line.split('\\t')"
   ]
  },
  {
   "cell_type": "markdown",
   "metadata": {},
   "source": [
    "## 4. 如果是监督学习，通常一个样本的前n-1个数据是特征，最后一个是输出标记"
   ]
  },
  {
   "cell_type": "markdown",
   "metadata": {},
   "source": [
    "### 一维"
   ]
  },
  {
   "cell_type": "code",
   "execution_count": null,
   "metadata": {},
   "outputs": [],
   "source": []
  }
 ],
 "metadata": {
  "kernelspec": {
   "display_name": "Python 3",
   "language": "python",
   "name": "python3"
  },
  "language_info": {
   "codemirror_mode": {
    "name": "ipython",
    "version": 3
   },
   "file_extension": ".py",
   "mimetype": "text/x-python",
   "name": "python",
   "nbconvert_exporter": "python",
   "pygments_lexer": "ipython3",
   "version": "3.7.3"
  }
 },
 "nbformat": 4,
 "nbformat_minor": 2
}
