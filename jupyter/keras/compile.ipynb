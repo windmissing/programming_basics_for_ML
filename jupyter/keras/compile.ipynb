{
 "cells": [
  {
   "cell_type": "markdown",
   "metadata": {},
   "source": [
    "compile是指把Sequential中的层序列转成一系列的矩阵。  \n",
    "可以视为precompute。  \n",
    "真正的compute是fit数据的操作。  \n",
    "\n",
    "# 两种定义model.compile的参数的方式\n",
    "\n",
    "方式一：用字符串定义算法并使用默认参数\n",
    "\n",
    "```python\n",
    "model.compile(optimizer='sgd', loss='mse')\n",
    "```\n",
    "\n",
    "方式二：用对象定义，并在创建对象时定义参数  \n",
    "\n",
    "```python\n",
    "algorithm = SGD(lr=0.1, momentum=0.3)\n",
    "model.compile(optimizer=algorithm, loss='mse')\n",
    "```\n",
    "\n",
    "# 损失函数loss\n",
    "\n",
    "回归问题：`mean_squared_error`或`mse`、`mae`  \n",
    "二分类问题：`binary_corssentropy`  \n",
    "多分类问题：`categorical_crossentropy`  '\n",
    "\n",
    "# 优化算法optimizer\n",
    "\n",
    "`sgd`、`adam`、`rmsprop`\n",
    "\n",
    "# 迭代过程中可以收集的统计数据metrics\n",
    "\n",
    "`accuracy`、`acc`"
   ]
  },
  {
   "cell_type": "code",
   "execution_count": null,
   "metadata": {},
   "outputs": [],
   "source": []
  }
 ],
 "metadata": {
  "kernelspec": {
   "display_name": "Python 3",
   "language": "python",
   "name": "python3"
  },
  "language_info": {
   "codemirror_mode": {
    "name": "ipython",
    "version": 3
   },
   "file_extension": ".py",
   "mimetype": "text/x-python",
   "name": "python",
   "nbconvert_exporter": "python",
   "pygments_lexer": "ipython3",
   "version": "3.7.6"
  }
 },
 "nbformat": 4,
 "nbformat_minor": 4
}
