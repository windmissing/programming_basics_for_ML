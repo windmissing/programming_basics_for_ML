{
 "cells": [
  {
   "cell_type": "markdown",
   "metadata": {},
   "source": [
    "# 输出中间层的结果"
   ]
  },
  {
   "cell_type": "code",
   "execution_count": 29,
   "metadata": {},
   "outputs": [
    {
     "name": "stdout",
     "output_type": "stream",
     "text": [
      "Model: \"sequential_9\"\n",
      "_________________________________________________________________\n",
      "Layer (type)                 Output Shape              Param #   \n",
      "=================================================================\n",
      "dense_19 (Dense)             (None, 1)                 2         \n",
      "_________________________________________________________________\n",
      "dense_20 (Dense)             (None, 1)                 2         \n",
      "=================================================================\n",
      "Total params: 4\n",
      "Trainable params: 4\n",
      "Non-trainable params: 0\n",
      "_________________________________________________________________\n"
     ]
    }
   ],
   "source": [
    "import tensorflow as tf\n",
    "\n",
    "class ExampleRandomNormal(tf.keras.initializers.Initializer):\n",
    "\n",
    "    def __init__(self, weights):\n",
    "        self.weights = weights\n",
    "\n",
    "    def __call__(self, shape, dtype=None):\n",
    "        return self.weights\n",
    "\n",
    "    def get_config(self):  # To support serialization\n",
    "        return {'weights': self.weights}\n",
    "\n",
    "# y = 10 * x\n",
    "layer0 = tf.keras.layers.Dense(1, kernel_initializer=ExampleRandomNormal([[10]]), input_dim=1)\n",
    "# y = 5 * x\n",
    "layer1 = tf.keras.layers.Dense(1, kernel_initializer=ExampleRandomNormal([[5]]))\n",
    "model = tf.keras.Sequential([layer0, layer1])\n",
    "model.summary()"
   ]
  },
  {
   "cell_type": "code",
   "execution_count": 58,
   "metadata": {},
   "outputs": [
    {
     "data": {
      "text/plain": [
       "TensorShape([Dimension(1), Dimension(1)])"
      ]
     },
     "execution_count": 58,
     "metadata": {},
     "output_type": "execute_result"
    }
   ],
   "source": [
    "X = tf.constant([[1]],dtype=tf.float32)\n",
    "X.shape"
   ]
  },
  {
   "cell_type": "markdown",
   "metadata": {},
   "source": [
    "## 方法一"
   ]
  },
  {
   "cell_type": "code",
   "execution_count": 65,
   "metadata": {},
   "outputs": [
    {
     "name": "stdout",
     "output_type": "stream",
     "text": [
      "[array([[10.]], dtype=float32), array([[50.]], dtype=float32)]\n"
     ]
    }
   ],
   "source": [
    "layer = tf.keras.backend.function(inputs=[model.layers[0].input], outputs=[model.layers[0].output, model.layers[1].output])\n",
    "print(layer([X]))"
   ]
  },
  {
   "cell_type": "markdown",
   "metadata": {},
   "source": [
    "## 方法二"
   ]
  },
  {
   "cell_type": "code",
   "execution_count": 64,
   "metadata": {},
   "outputs": [
    {
     "name": "stdout",
     "output_type": "stream",
     "text": [
      "Model: \"model_21\"\n",
      "_________________________________________________________________\n",
      "Layer (type)                 Output Shape              Param #   \n",
      "=================================================================\n",
      "dense_19_input (InputLayer)  [(None, 1)]               0         \n",
      "_________________________________________________________________\n",
      "dense_19 (Dense)             (None, 1)                 2         \n",
      "_________________________________________________________________\n",
      "dense_20 (Dense)             (None, 1)                 2         \n",
      "=================================================================\n",
      "Total params: 4\n",
      "Trainable params: 4\n",
      "Non-trainable params: 0\n",
      "_________________________________________________________________\n",
      "[array([[10.]], dtype=float32), array([[50.]], dtype=float32)]\n"
     ]
    }
   ],
   "source": [
    "new_model = tf.keras.Model(inputs=[model.layers[0].input], outputs=[model.layers[0].output, model.layers[1].output])\n",
    "new_model.summary()\n",
    "print(new_model.predict([[1]]))  # 不知道为什么没有输出10"
   ]
  },
  {
   "cell_type": "code",
   "execution_count": null,
   "metadata": {},
   "outputs": [],
   "source": []
  }
 ],
 "metadata": {
  "kernelspec": {
   "display_name": "Python 3",
   "language": "python",
   "name": "python3"
  },
  "language_info": {
   "codemirror_mode": {
    "name": "ipython",
    "version": 3
   },
   "file_extension": ".py",
   "mimetype": "text/x-python",
   "name": "python",
   "nbconvert_exporter": "python",
   "pygments_lexer": "ipython3",
   "version": "3.7.3"
  }
 },
 "nbformat": 4,
 "nbformat_minor": 2
}
