{
 "cells": [
  {
   "cell_type": "markdown",
   "metadata": {},
   "source": [
    "# Callbacks\n",
    "\n",
    "可以通过在fit过程中添加回调函数，监控甚至影响fit的过程。  \n",
    "\n",
    "## 一个例子\n",
    "\n",
    "例如：在每一轮迭代之后存储模型参数"
   ]
  },
  {
   "cell_type": "code",
   "execution_count": 2,
   "metadata": {},
   "outputs": [],
   "source": [
    "import numpy as np\n",
    "import tensorflow as tf"
   ]
  },
  {
   "cell_type": "code",
   "execution_count": 3,
   "metadata": {},
   "outputs": [],
   "source": [
    "# 定义回调函数\n",
    "class save_model(tf.keras.callbacks.Callback):\n",
    "    def on_epoch_end(self, epoch, logs={}):\n",
    "        print(\"save model\", epoch)\n",
    "        name = str(epoch) + 'iterations'\n",
    "        self.model.save_weights('file/weights_' + name + '.h5')"
   ]
  },
  {
   "cell_type": "code",
   "execution_count": 8,
   "metadata": {},
   "outputs": [],
   "source": [
    "# 定义模型和数据\n",
    "model = tf.keras.Sequential()\n",
    "model.add(tf.keras.layers.Dense(1, input_shape=[1]))\n",
    "model.compile(loss='mse', optimizer='adam') # 统计准确率\n",
    "\n",
    "X = np.array([3])\n",
    "Y = np.array([4])"
   ]
  },
  {
   "cell_type": "code",
   "execution_count": 9,
   "metadata": {},
   "outputs": [
    {
     "name": "stdout",
     "output_type": "stream",
     "text": [
      "Train on 1 samples\n",
      "Epoch 1/3\n",
      "save model 0\n",
      "1/1 [==============================] - 0s 487ms/sample - loss: 41.0167\n",
      "Epoch 2/3\n",
      "save model 1\n",
      "1/1 [==============================] - 0s 10ms/sample - loss: 40.9655\n",
      "Epoch 3/3\n",
      "save model 2\n",
      "1/1 [==============================] - 0s 13ms/sample - loss: 40.9143\n"
     ]
    },
    {
     "data": {
      "text/plain": [
       "<tensorflow.python.keras.callbacks.History at 0x1ed204fd0b8>"
      ]
     },
     "execution_count": 9,
     "metadata": {},
     "output_type": "execute_result"
    }
   ],
   "source": [
    "model.fit(X, Y, epochs=3, callbacks=[save_model()])"
   ]
  },
  {
   "cell_type": "markdown",
   "metadata": {},
   "source": [
    "# 内置的callback函数\n",
    "\n",
    "## tf.keras.callbacks.LearningRateScheduler, 动态设置learing rate"
   ]
  },
  {
   "cell_type": "code",
   "execution_count": 19,
   "metadata": {},
   "outputs": [],
   "source": [
    "# 定义回调函数\n",
    "\n",
    "lr_schedule = tf.keras.callbacks.LearningRateScheduler(\n",
    "    lambda epoch:10**(-epoch)*1.0\n",
    ")"
   ]
  },
  {
   "cell_type": "code",
   "execution_count": 20,
   "metadata": {},
   "outputs": [],
   "source": [
    "# 定义模型和数据\n",
    "model = tf.keras.Sequential()\n",
    "model.add(tf.keras.layers.Dense(1, input_shape=[1]))\n",
    "model.compile(loss='mse', optimizer='adam') # 统计准确率\n",
    "\n",
    "X = np.array([3])\n",
    "Y = np.array([4])"
   ]
  },
  {
   "cell_type": "code",
   "execution_count": 21,
   "metadata": {},
   "outputs": [
    {
     "name": "stdout",
     "output_type": "stream",
     "text": [
      "Train on 1 samples\n",
      "Epoch 1/3\n",
      "1/1 [==============================] - 0s 224ms/sample - loss: 84.0986\n",
      "Epoch 2/3\n",
      "1/1 [==============================] - 0s 3ms/sample - loss: 26.7344\n",
      "Epoch 3/3\n",
      "1/1 [==============================] - 0s 4ms/sample - loss: 22.9522\n"
     ]
    }
   ],
   "source": [
    "history = model.fit(X, Y, epochs=3, callbacks=[lr_schedule])"
   ]
  },
  {
   "cell_type": "markdown",
   "metadata": {},
   "source": [
    "# 自定义callback函数"
   ]
  },
  {
   "cell_type": "code",
   "execution_count": null,
   "metadata": {},
   "outputs": [],
   "source": []
  }
 ],
 "metadata": {
  "kernelspec": {
   "display_name": "Python 3",
   "language": "python",
   "name": "python3"
  },
  "language_info": {
   "codemirror_mode": {
    "name": "ipython",
    "version": 3
   },
   "file_extension": ".py",
   "mimetype": "text/x-python",
   "name": "python",
   "nbconvert_exporter": "python",
   "pygments_lexer": "ipython3",
   "version": "3.7.3"
  }
 },
 "nbformat": 4,
 "nbformat_minor": 2
}
