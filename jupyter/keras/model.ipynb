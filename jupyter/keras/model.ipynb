{
 "cells": [
  {
   "cell_type": "code",
   "execution_count": null,
   "metadata": {},
   "outputs": [],
   "source": [
    "import tensorflow as tf\n",
    "\n",
    "model = tf.keras.Sequential(\n",
    "    [\n",
    "        # Embedding是指把编码转成指定维度的向量，使具有相近语义的单词其向量也是相近的\n",
    "        tf.keras.layers.Embedding(vocab_size, embedding_dim, input_length=max_length),\n",
    "        # Flatten也可以用GlobalAveragePooling1D代替，后者速度更快\n",
    "        tf.keras.layers.Flatten().\n",
    "        tf.keras.kayers.Dense(6, activation='relu'),\n",
    "        tf.keras.layers.Dense(1, activation='sigmoid')\n",
    "    ]\n",
    ")"
   ]
  },
  {
   "cell_type": "markdown",
   "metadata": {},
   "source": [
    "# Embedding的可视化"
   ]
  },
  {
   "cell_type": "code",
   "execution_count": null,
   "metadata": {},
   "outputs": [],
   "source": [
    "e = model.layers[0]   # embedding层\n",
    "weights = e.get_weights()[0]\n",
    "weights.shape()  # (10000, 16), 10000代表单词表的大小，16代表每个单词的维度\n",
    "# 单词序号转换为单词\n",
    "reverse_word_index = dict([(value, key) for (key, value) in word_index.items])\n",
    "\n",
    "# meta.csv: 序号 --> 单词  \n",
    "# vecs.csv：序号 --> embedding\n",
    "import io\n",
    "out_v = io.open('vecs.tsv', 'w', encoding='utf-8')\n",
    "out_m = io.open('meta.tsv', 'w', encoding='utf-8')\n",
    "for word_num in range(1, vocab_size): # 0代表OOV\n",
    "    word = reverse_word_index[word_num]\n",
    "    embeddings = weights[word_num]\n",
    "    out_m.write(word + '\\n')\n",
    "    out_v.write('\\t'.join(str(x) for x in embeddings)+'\\n')\n",
    "out_m.close()\n",
    "out_v.close()\n",
    "# https://projector.tensorflow.org"
   ]
  }
 ],
 "metadata": {
  "kernelspec": {
   "display_name": "Python 3",
   "language": "python",
   "name": "python3"
  },
  "language_info": {
   "codemirror_mode": {
    "name": "ipython",
    "version": 3
   },
   "file_extension": ".py",
   "mimetype": "text/x-python",
   "name": "python",
   "nbconvert_exporter": "python",
   "pygments_lexer": "ipython3",
   "version": "3.7.3"
  }
 },
 "nbformat": 4,
 "nbformat_minor": 2
}
