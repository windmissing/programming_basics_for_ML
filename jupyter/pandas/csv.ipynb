{
 "cells": [
  {
   "cell_type": "code",
   "execution_count": 1,
   "metadata": {},
   "outputs": [
    {
     "name": "stdout",
     "output_type": "stream",
     "text": [
      "['5ce6c26d0102df314251bf8b64b4511c', '2745 215 2064 785 78']\n",
      "['c4eb75aa15a1d33de92892b23cc6a91a', '2973 2830 341 2064 785']\n"
     ]
    }
   ],
   "source": [
    "import csv\n",
    "\n",
    "with open('file/2064.csv') as csvfile:\n",
    "    # csv文件一般使用','作为分割符\n",
    "    reader = csv.reader(csvfile, delimiter=',')\n",
    "    # 去掉第一行title\n",
    "    next(reader)\n",
    "    for row in reader:\n",
    "        print(row)"
   ]
  },
  {
   "cell_type": "code",
   "execution_count": null,
   "metadata": {},
   "outputs": [],
   "source": []
  }
 ],
 "metadata": {
  "kernelspec": {
   "display_name": "Python 3",
   "language": "python",
   "name": "python3"
  },
  "language_info": {
   "codemirror_mode": {
    "name": "ipython",
    "version": 3
   },
   "file_extension": ".py",
   "mimetype": "text/x-python",
   "name": "python",
   "nbconvert_exporter": "python",
   "pygments_lexer": "ipython3",
   "version": "3.7.3"
  }
 },
 "nbformat": 4,
 "nbformat_minor": 2
}
