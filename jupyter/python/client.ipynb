{
 "cells": [
  {
   "cell_type": "markdown",
   "metadata": {},
   "source": [
    "# 交互的输入输出"
   ]
  },
  {
   "cell_type": "markdown",
   "metadata": {},
   "source": [
    "1、在 Python2.x 中 raw_input( ) 和 input( )，两个函数都存在，其中区别为:  \n",
    "raw_input( ) 将所有输入作为字符串看待，返回字符串类型。  \n",
    "input( ) 只能接收\"数字\"的输入，在对待纯数字输入时具有自己的特性，它返回所输入的数字的类型（ int, float ）。  \n",
    "2、在 Python3.x 中 raw_input( ) 和 input( ) 进行了整合，去除了 raw_input( )，仅保留了 input( ) 函数，其接收任意任性输入，将所有输入默认为字符串处理，并返回字符串类型。  "
   ]
  },
  {
   "cell_type": "code",
   "execution_count": 4,
   "metadata": {},
   "outputs": [
    {
     "name": "stdout",
     "output_type": "stream",
     "text": [
      "input:123\n",
      "123\n",
      "<class 'str'>\n"
     ]
    }
   ],
   "source": [
    "a = input(\"input:\")   # 输入123\n",
    "print(a)\n",
    "print(type(a))   # 输入的是数字，且没有引号，但得到的是字符串"
   ]
  },
  {
   "cell_type": "code",
   "execution_count": null,
   "metadata": {},
   "outputs": [],
   "source": []
  }
 ],
 "metadata": {
  "kernelspec": {
   "display_name": "Python 3",
   "language": "python",
   "name": "python3"
  },
  "language_info": {
   "codemirror_mode": {
    "name": "ipython",
    "version": 3
   },
   "file_extension": ".py",
   "mimetype": "text/x-python",
   "name": "python",
   "nbconvert_exporter": "python",
   "pygments_lexer": "ipython3",
   "version": "3.7.3"
  }
 },
 "nbformat": 4,
 "nbformat_minor": 2
}
