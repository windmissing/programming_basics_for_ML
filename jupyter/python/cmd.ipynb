{
 "cells": [
  {
   "cell_type": "code",
   "execution_count": null,
   "metadata": {},
   "outputs": [],
   "source": [
    "import cmd\n",
    "\n",
    "class Query(cmd.Cmd):\n",
    "    prompt = 'test>'\n",
    "\n",
    "    def do_iter(self, arg):\n",
    "        print ('command is iter, arg is ', arg)\n",
    "\n",
    "    def do_case(self, arg):\n",
    "        print ()'command is case, arg is ', arg)\n",
    "\n",
    "    def do_ans(self, arg):\n",
    "        print ()'command is case, arg is ', arg)\n",
    "\n",
    "\n",
    "\n",
    "if __name__ == '__main__':\n",
    "    Query().cmdloop()\n"
   ]
  }
 ],
 "metadata": {
  "kernelspec": {
   "display_name": "Python 3",
   "language": "python",
   "name": "python3"
  },
  "language_info": {
   "codemirror_mode": {
    "name": "ipython",
    "version": 3
   },
   "file_extension": ".py",
   "mimetype": "text/x-python",
   "name": "python",
   "nbconvert_exporter": "python",
   "pygments_lexer": "ipython3",
   "version": "3.7.3"
  }
 },
 "nbformat": 4,
 "nbformat_minor": 2
}
