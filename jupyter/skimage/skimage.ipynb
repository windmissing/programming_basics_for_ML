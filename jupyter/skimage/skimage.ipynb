{
 "cells": [
  {
   "cell_type": "markdown",
   "metadata": {},
   "source": [
    "# 读入图像\n",
    "\n",
    "读入结果为np.array，三维依次是Wight * Height * Channel"
   ]
  },
  {
   "cell_type": "code",
   "execution_count": 3,
   "metadata": {},
   "outputs": [
    {
     "data": {
      "text/plain": [
       "Array([[[28, 27, 32],\n",
       "        [29, 28, 33],\n",
       "        [34, 33, 38],\n",
       "        ...,\n",
       "        [29, 29, 34],\n",
       "        [30, 32, 36],\n",
       "        [26, 31, 34]],\n",
       "\n",
       "       [[30, 29, 34],\n",
       "        [31, 30, 35],\n",
       "        [31, 30, 35],\n",
       "        ...,\n",
       "        [28, 27, 32],\n",
       "        [30, 31, 35],\n",
       "        [29, 34, 37]],\n",
       "\n",
       "       [[32, 31, 36],\n",
       "        [31, 30, 35],\n",
       "        [31, 30, 35],\n",
       "        ...,\n",
       "        [30, 29, 34],\n",
       "        [29, 29, 33],\n",
       "        [27, 29, 33]],\n",
       "\n",
       "       ...,\n",
       "\n",
       "       [[36, 35, 40],\n",
       "        [34, 34, 38],\n",
       "        [38, 37, 42],\n",
       "        ...,\n",
       "        [41, 40, 46],\n",
       "        [43, 42, 46],\n",
       "        [40, 40, 42]],\n",
       "\n",
       "       [[39, 38, 43],\n",
       "        [40, 39, 44],\n",
       "        [41, 40, 45],\n",
       "        ...,\n",
       "        [36, 36, 39],\n",
       "        [37, 37, 39],\n",
       "        [37, 38, 39]],\n",
       "\n",
       "       [[38, 37, 42],\n",
       "        [41, 40, 45],\n",
       "        [42, 41, 46],\n",
       "        ...,\n",
       "        [37, 37, 40],\n",
       "        [34, 34, 36],\n",
       "        [35, 35, 37]]], dtype=uint8)"
      ]
     },
     "execution_count": 3,
     "metadata": {},
     "output_type": "execute_result"
    }
   ],
   "source": [
    "import skimage.io as io\n",
    "io.imread(\"file/000040d66f14ced4cdd18cd95d91800f.png\")"
   ]
  },
  {
   "cell_type": "code",
   "execution_count": null,
   "metadata": {},
   "outputs": [],
   "source": []
  },
  {
   "cell_type": "code",
   "execution_count": null,
   "metadata": {},
   "outputs": [],
   "source": []
  }
 ],
 "metadata": {
  "kernelspec": {
   "display_name": "Python 3",
   "language": "python",
   "name": "python3"
  },
  "language_info": {
   "codemirror_mode": {
    "name": "ipython",
    "version": 3
   },
   "file_extension": ".py",
   "mimetype": "text/x-python",
   "name": "python",
   "nbconvert_exporter": "python",
   "pygments_lexer": "ipython3",
   "version": "3.7.3"
  }
 },
 "nbformat": 4,
 "nbformat_minor": 2
}
