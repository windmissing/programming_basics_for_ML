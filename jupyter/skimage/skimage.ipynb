{
 "cells": [
  {
   "cell_type": "markdown",
   "metadata": {},
   "source": [
    "# 读入图像\n",
    "\n",
    "读入结果为np.array，三维依次是Wight * Height * Channel"
   ]
  },
  {
   "cell_type": "code",
   "execution_count": 3,
   "metadata": {},
   "outputs": [
    {
     "data": {
      "text/plain": [
       "Array([[[28, 27, 32],\n",
       "        [29, 28, 33],\n",
       "        [34, 33, 38],\n",
       "        ...,\n",
       "        [29, 29, 34],\n",
       "        [30, 32, 36],\n",
       "        [26, 31, 34]],\n",
       "\n",
       "       [[30, 29, 34],\n",
       "        [31, 30, 35],\n",
       "        [31, 30, 35],\n",
       "        ...,\n",
       "        [28, 27, 32],\n",
       "        [30, 31, 35],\n",
       "        [29, 34, 37]],\n",
       "\n",
       "       [[32, 31, 36],\n",
       "        [31, 30, 35],\n",
       "        [31, 30, 35],\n",
       "        ...,\n",
       "        [30, 29, 34],\n",
       "        [29, 29, 33],\n",
       "        [27, 29, 33]],\n",
       "\n",
       "       ...,\n",
       "\n",
       "       [[36, 35, 40],\n",
       "        [34, 34, 38],\n",
       "        [38, 37, 42],\n",
       "        ...,\n",
       "        [41, 40, 46],\n",
       "        [43, 42, 46],\n",
       "        [40, 40, 42]],\n",
       "\n",
       "       [[39, 38, 43],\n",
       "        [40, 39, 44],\n",
       "        [41, 40, 45],\n",
       "        ...,\n",
       "        [36, 36, 39],\n",
       "        [37, 37, 39],\n",
       "        [37, 38, 39]],\n",
       "\n",
       "       [[38, 37, 42],\n",
       "        [41, 40, 45],\n",
       "        [42, 41, 46],\n",
       "        ...,\n",
       "        [37, 37, 40],\n",
       "        [34, 34, 36],\n",
       "        [35, 35, 37]]], dtype=uint8)"
      ]
     },
     "execution_count": 3,
     "metadata": {},
     "output_type": "execute_result"
    }
   ],
   "source": [
    "import skimage.io as io\n",
    "io.imread(\"file/000040d66f14ced4cdd18cd95d91800f.png\")"
   ]
  },
  {
   "cell_type": "markdown",
   "metadata": {},
   "source": [
    "# 计算图像的大小"
   ]
  },
  {
   "cell_type": "code",
   "execution_count": 3,
   "metadata": {},
   "outputs": [
    {
     "name": "stdout",
     "output_type": "stream",
     "text": [
      "(300, 375, 3)\n"
     ]
    }
   ],
   "source": [
    "# 彩色图像\n",
    "import skimage.io as io\n",
    "img = io.imread(\"file/000040d66f14ced4cdd18cd95d91800f.png\")\n",
    "print(img.shape)"
   ]
  },
  {
   "cell_type": "code",
   "execution_count": 4,
   "metadata": {},
   "outputs": [
    {
     "name": "stdout",
     "output_type": "stream",
     "text": [
      "(397, 300)\n"
     ]
    }
   ],
   "source": [
    "# 黑白图像\n",
    "import skimage.io as io\n",
    "img = io.imread(\"file/0b8851b66203967a2b244d1be95bf9c4.png\")\n",
    "print(img.shape)"
   ]
  },
  {
   "cell_type": "code",
   "execution_count": 7,
   "metadata": {},
   "outputs": [
    {
     "name": "stdout",
     "output_type": "stream",
     "text": [
      "(397, 300, 1)\n"
     ]
    }
   ],
   "source": [
    "# 要把兼容地处理黑白图像和彩色图像，可以把黑白图像增加一维\n",
    "import skimage.io as io\n",
    "import numpy as np\n",
    "img = io.imread(\"file/0b8851b66203967a2b244d1be95bf9c4.png\")\n",
    "if len(img.shape) < 3:\n",
    "    img = img[:, :, np.newaxis]\n",
    "print(img.shape)"
   ]
  },
  {
   "cell_type": "markdown",
   "metadata": {},
   "source": [
    "# 坐标转换\n",
    "\n",
    "skimage读入的结构是W * H * C，而模型处理的结构是C * W * H，因此要进行坐标转换"
   ]
  },
  {
   "cell_type": "code",
   "execution_count": 8,
   "metadata": {},
   "outputs": [
    {
     "name": "stdout",
     "output_type": "stream",
     "text": [
      "(3, 300, 375)\n"
     ]
    }
   ],
   "source": [
    "import skimage.io as io\n",
    "img = io.imread(\"file/000040d66f14ced4cdd18cd95d91800f.png\")\n",
    "img = np.transpose(img, (2, 0, 1))\n",
    "print(img.shape)"
   ]
  },
  {
   "cell_type": "markdown",
   "metadata": {},
   "source": [
    "# 图像缩放"
   ]
  },
  {
   "cell_type": "code",
   "execution_count": 11,
   "metadata": {},
   "outputs": [
    {
     "name": "stdout",
     "output_type": "stream",
     "text": [
      "(300, 375, 3)\n",
      "(100, 100, 3)\n"
     ]
    }
   ],
   "source": [
    "# 彩色图像\n",
    "import skimage.io as io\n",
    "from skimage.transform import resize\n",
    "img = io.imread(\"file/000040d66f14ced4cdd18cd95d91800f.png\")\n",
    "print(img.shape)\n",
    "img = resize(img, (100, 100, 3))\n",
    "print(img.shape)"
   ]
  },
  {
   "cell_type": "code",
   "execution_count": 13,
   "metadata": {},
   "outputs": [
    {
     "name": "stdout",
     "output_type": "stream",
     "text": [
      "(397, 300, 1)\n",
      "(100, 100, 3)\n"
     ]
    }
   ],
   "source": [
    "# 黑白图像，1通道同时转成3通道\n",
    "import skimage.io as io\n",
    "img = io.imread(\"file/0b8851b66203967a2b244d1be95bf9c4.png\")\n",
    "img = img[:, :, np.newaxis]\n",
    "print(img.shape)\n",
    "img = resize(img, (100, 100, 3))\n",
    "print(img.shape)"
   ]
  },
  {
   "cell_type": "code",
   "execution_count": null,
   "metadata": {},
   "outputs": [],
   "source": []
  }
 ],
 "metadata": {
  "kernelspec": {
   "display_name": "Python 3",
   "language": "python",
   "name": "python3"
  },
  "language_info": {
   "codemirror_mode": {
    "name": "ipython",
    "version": 3
   },
   "file_extension": ".py",
   "mimetype": "text/x-python",
   "name": "python",
   "nbconvert_exporter": "python",
   "pygments_lexer": "ipython3",
   "version": "3.7.3"
  }
 },
 "nbformat": 4,
 "nbformat_minor": 2
}
