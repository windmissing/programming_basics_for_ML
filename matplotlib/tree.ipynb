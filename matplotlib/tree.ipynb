{
 "cells": [
  {
   "cell_type": "markdown",
   "metadata": {},
   "source": [
    "# 绘制决策树"
   ]
  },
  {
   "cell_type": "markdown",
   "metadata": {},
   "source": [
    "## 绘制一个带箭头的结点"
   ]
  },
  {
   "cell_type": "code",
   "execution_count": 18,
   "metadata": {},
   "outputs": [
    {
     "data": {
      "image/png": "[encoded data removed]",
      "text/plain": [
       "<Figure size 432x288 with 1 Axes>"
      ]
     },
     "metadata": {
      "needs_background": "light"
     },
     "output_type": "display_data"
    }
   ],
   "source": [
    "import matplotlib.pyplot as plt\n",
    "\n",
    "note_text = 'this is a node'\n",
    "node_style = dict(boxstyle=\"sawtooth\", fc=\"0.8\")\n",
    "node_position = (0.5, 0.1)\n",
    "\n",
    "arrow_style = dict(arrowstyle=\"<-\")\n",
    "arrow_start_position = (0.1, 0.5)\n",
    "\n",
    "def plotNode(nodeTxt, centerPt, parentPt, nodeType):\n",
    "    plt.annotate(nodeTxt, \n",
    "                 xy=parentPt, xycoords='axes fraction',\n",
    "                 xytext=centerPt, textcoords='axes fraction',\n",
    "                 va=\"center\", ha=\"center\", \n",
    "                 bbox=nodeType, arrowprops=arrow_style)\n",
    "    \n",
    "\n",
    "plotNode(note_text, node_position, arrow_start_position, node_style)\n",
    "plt.show()"
   ]
  },
  {
   "cell_type": "code",
   "execution_count": null,
   "metadata": {},
   "outputs": [],
   "source": []
  },
  {
   "cell_type": "code",
   "execution_count": null,
   "metadata": {},
   "outputs": [],
   "source": []
  }
 ],
 "metadata": {
  "kernelspec": {
   "display_name": "Python 3",
   "language": "python",
   "name": "python3"
  },
  "language_info": {
   "codemirror_mode": {
    "name": "ipython",
    "version": 3
   },
   "file_extension": ".py",
   "mimetype": "text/x-python",
   "name": "python",
   "nbconvert_exporter": "python",
   "pygments_lexer": "ipython3",
   "version": "3.7.3"
  }
 },
 "nbformat": 4,
 "nbformat_minor": 2
}
